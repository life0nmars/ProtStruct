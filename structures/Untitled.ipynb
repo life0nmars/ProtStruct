{
 "cells": [
  {
   "cell_type": "code",
   "execution_count": 1,
   "id": "cead8d0b-9d6f-4145-97f9-74f45c94d866",
   "metadata": {},
   "outputs": [
    {
     "data": {
      "application/vnd.jupyter.widget-view+json": {
       "model_id": "f4c272e18f4744378bdc421c29d6dea5",
       "version_major": 2,
       "version_minor": 0
      },
      "text/plain": []
     },
     "metadata": {},
     "output_type": "display_data"
    }
   ],
   "source": [
    "import MDAnalysis as mda\n",
    "import nglview as nv"
   ]
  },
  {
   "cell_type": "markdown",
   "id": "94d1aa2f-1eca-4f4e-abb7-c4df50678894",
   "metadata": {},
   "source": [
    "# Alpha-helix"
   ]
  },
  {
   "cell_type": "markdown",
   "id": "a5c3f8ef-0c05-4c52-a135-13de74902ced",
   "metadata": {},
   "source": [
    "## 1BZ0"
   ]
  },
  {
   "cell_type": "code",
   "execution_count": 68,
   "id": "e048fc1d-31d4-402b-b619-4474878c1f22",
   "metadata": {},
   "outputs": [
    {
     "name": "stderr",
     "output_type": "stream",
     "text": [
      "C:\\Users\\anytk\\anaconda3\\envs\\web\\Lib\\site-packages\\MDAnalysis\\coordinates\\PDB.py:1154: UserWarning: Found no information for attr: 'formalcharges' Using default value of '0'\n",
      "  warnings.warn(\"Found no information for attr: '{}'\"\n"
     ]
    }
   ],
   "source": [
    "u = mda.Universe(\"pdb/1BZ0.pdb\")\n",
    "seg = u.select_atoms('segid C and protein and resid 19:30')\n",
    "seg.write('tyr_1bz0.pdb')\n",
    "# view = nv.show_mdanalysis(u.select_atoms('segid C and protein and resid 19:30'))\n",
    "# view.clear()\n",
    "# view.add_representation('cartoon')\n",
    "# view.add_representation('licorice', 'TYR', color = 'red')\n",
    "# #view.add_representation('licorice')\n",
    "# view"
   ]
  },
  {
   "cell_type": "code",
   "execution_count": null,
   "id": "2f399dba-1192-44a8-ab3e-ec1e6711517d",
   "metadata": {},
   "outputs": [],
   "source": []
  }
 ],
 "metadata": {
  "kernelspec": {
   "display_name": "web",
   "language": "python",
   "name": "web"
  },
  "language_info": {
   "codemirror_mode": {
    "name": "ipython",
    "version": 3
   },
   "file_extension": ".py",
   "mimetype": "text/x-python",
   "name": "python",
   "nbconvert_exporter": "python",
   "pygments_lexer": "ipython3",
   "version": "3.12.9"
  }
 },
 "nbformat": 4,
 "nbformat_minor": 5
}
